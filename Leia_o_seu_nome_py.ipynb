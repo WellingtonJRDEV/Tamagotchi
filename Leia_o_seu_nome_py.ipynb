{
  "nbformat": 4,
  "nbformat_minor": 0,
  "metadata": {
    "colab": {
      "name": "desafio27.py",
      "provenance": [],
      "collapsed_sections": [],
      "authorship_tag": "ABX9TyMZOC2/dgA0iewxA81zkwOI",
      "include_colab_link": true
    },
    "kernelspec": {
      "name": "python3",
      "display_name": "Python 3"
    }
  },
  "cells": [
    {
      "cell_type": "markdown",
      "metadata": {
        "id": "view-in-github",
        "colab_type": "text"
      },
      "source": [
        "<a href=\"https://colab.research.google.com/github/WellingtonJRDEV/Tamagotchi/blob/master/Leia_o_seu_nome_py.ipynb\" target=\"_parent\"><img src=\"https://colab.research.google.com/assets/colab-badge.svg\" alt=\"Open In Colab\"/></a>"
      ]
    },
    {
      "cell_type": "code",
      "metadata": {
        "id": "Le2W35Y3QRg-"
      },
      "source": [
        "nome = str(input('Digite seu nome completo ')).strip().title().split()\r\n",
        "n1 = nome[0]\r\n",
        "n2 = nome[len(nome)-1]\r\n",
        "print('Vamos analisar seu nome.')\r\n",
        "print('O seu primeiro nome é {}'.format(n1))\r\n",
        "print('O seu último nome é {}'.format(n2))\r\n"
      ],
      "execution_count": null,
      "outputs": []
    }
  ]
}